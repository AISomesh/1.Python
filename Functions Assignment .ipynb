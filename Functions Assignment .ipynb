{
 "cells": [
  {
   "cell_type": "code",
   "execution_count": null,
   "id": "ae5c861e-fe75-4cbc-8a1c-4a611046f778",
   "metadata": {},
   "outputs": [],
   "source": [
    "SubfieldsInAI.Subfields()"
   ]
  },
  {
   "cell_type": "code",
   "execution_count": 3,
   "id": "f59c9fd6-6c1f-429d-9176-16a798d50bbc",
   "metadata": {},
   "outputs": [],
   "source": [
    "def subfields():\n",
    "    print(\"Sub-fields in AI are:\")\n",
    "    List = ('Machine Learning', 'Neural Networks', 'Vision', 'Robotics', 'Speech Processing', 'Natural Language Processing')\n",
    "    for s in List:\n",
    "        print(s)"
   ]
  },
  {
   "cell_type": "code",
   "execution_count": 4,
   "id": "b6c9966d-2146-4e90-a95e-3d3ac94f9adf",
   "metadata": {},
   "outputs": [
    {
     "name": "stdout",
     "output_type": "stream",
     "text": [
      "Sub-fields in AI are:\n",
      "Machine Learning\n",
      "Neural Networks\n",
      "Vision\n",
      "Robotics\n",
      "Speech Processing\n",
      "Natural Language Processing\n"
     ]
    }
   ],
   "source": [
    "subfields()"
   ]
  },
  {
   "cell_type": "code",
   "execution_count": null,
   "id": "252fb33c-7977-4584-a044-6256c1d831a8",
   "metadata": {},
   "outputs": [],
   "source": [
    "OddEven.OddEven()"
   ]
  },
  {
   "cell_type": "code",
   "execution_count": 19,
   "id": "f960ebcf-6328-4ec1-bd28-63e91d00b930",
   "metadata": {},
   "outputs": [],
   "source": [
    "def OddEven():\n",
    "    num = int(input(\"Enter a number:\"))\n",
    "    if (num % 1)==1:\n",
    "        print(num, \"is a Odd number\")\n",
    "    else:\n",
    "        print(num, \"is a Even number\")"
   ]
  },
  {
   "cell_type": "code",
   "execution_count": 20,
   "id": "34e438f5-69b7-4a8c-8321-a0d5367c0091",
   "metadata": {},
   "outputs": [
    {
     "name": "stdin",
     "output_type": "stream",
     "text": [
      "Enter a number: 52452\n"
     ]
    },
    {
     "name": "stdout",
     "output_type": "stream",
     "text": [
      "52452 is a Even number\n"
     ]
    }
   ],
   "source": [
    "OddEven()"
   ]
  },
  {
   "cell_type": "code",
   "execution_count": null,
   "id": "7930382d-8cc0-4542-a7dc-9ee2a8e46b74",
   "metadata": {},
   "outputs": [],
   "source": [
    "EligibilityForMarriage.Eligibe()"
   ]
  },
  {
   "cell_type": "code",
   "execution_count": 22,
   "id": "ea1695cc-da0d-43b9-ad8b-c50f617c6457",
   "metadata": {},
   "outputs": [],
   "source": [
    "def Eligible():\n",
    "    gender = input(\"Your Gender:\")\n",
    "    age = int(input(\"Your Age:\"))\n",
    "    if (age<21):\n",
    "        print(\"Not Eligible\")\n",
    "    else:\n",
    "        print(\"Eligible\")"
   ]
  },
  {
   "cell_type": "code",
   "execution_count": 24,
   "id": "a77dd33f-b817-42cf-ad3b-6927092cf4fc",
   "metadata": {},
   "outputs": [
    {
     "name": "stdin",
     "output_type": "stream",
     "text": [
      "Your Gender: Male\n",
      "Your Age: 20\n"
     ]
    },
    {
     "name": "stdout",
     "output_type": "stream",
     "text": [
      "Not Eligible\n"
     ]
    }
   ],
   "source": [
    "Eligible()"
   ]
  },
  {
   "cell_type": "code",
   "execution_count": null,
   "id": "c399b6f1-35d8-42d1-92e4-01af866b0946",
   "metadata": {},
   "outputs": [],
   "source": [
    "#calculate the percentage of 10th Mark"
   ]
  },
  {
   "cell_type": "code",
   "execution_count": 28,
   "id": "d00bd4ba-a788-42ee-bd36-117420435945",
   "metadata": {},
   "outputs": [],
   "source": [
    "def percentage():\n",
    "    sub1 = int(input(\"Subject1=\"))\n",
    "    sub2 = int(input(\"Subject2=\"))\n",
    "    sub3 = int(input(\"Subject3=\"))\n",
    "    sub4 = int(input(\"Subject4=\"))\n",
    "    sub5 = int(input(\"Subject5=\"))\n",
    "    Total = sub1+sub2+sub3+sub4+sub5\n",
    "    print(\"Total:\", sub1+sub2+sub3+sub4+sub5)\n",
    "    per = (Total / 500) * 100\n",
    "    print(\"percentage:\", per)\n",
    "\n",
    "    \n",
    "    "
   ]
  },
  {
   "cell_type": "code",
   "execution_count": 29,
   "id": "604b62cd-99c9-4123-8e8d-cd88bf7befb4",
   "metadata": {},
   "outputs": [
    {
     "name": "stdin",
     "output_type": "stream",
     "text": [
      "Subject1= 98\n",
      "Subject2= 87\n",
      "Subject3= 95\n",
      "Subject4= 95\n",
      "Subject5= 93\n"
     ]
    },
    {
     "name": "stdout",
     "output_type": "stream",
     "text": [
      "Total: 468\n",
      "percentage: 93.60000000000001\n"
     ]
    }
   ],
   "source": [
    "percentage()"
   ]
  },
  {
   "cell_type": "code",
   "execution_count": null,
   "id": "a235f20c-778e-4e49-9afa-9c48a7822685",
   "metadata": {},
   "outputs": [],
   "source": [
    "#print area and perimeter of triangle using class and functions"
   ]
  },
  {
   "cell_type": "code",
   "execution_count": 34,
   "id": "126b22d8-491d-442f-a408-182dfd2553c7",
   "metadata": {},
   "outputs": [],
   "source": [
    "def triangle():\n",
    "    a = int(input(\"Height:\"))\n",
    "    b = int(input(\"Breadth:\"))\n",
    "    print(\"Area Formula:, (Height*Breadth)/ 2\")\n",
    "    print(\"Area of Triangle:\", (a*b)/ 2)\n",
    "    a1 = int(input(\"Height1:\"))\n",
    "    a2 = int(input(\"Height2:\"))\n",
    "    b2 = int(input(\"Breadth2:\"))\n",
    "    print(\"Perimeter Formula:, Height1+Height2+Breadth2\")\n",
    "    print(\"Perimeter of Triangle:\", a1+a2+b2)"
   ]
  },
  {
   "cell_type": "code",
   "execution_count": 35,
   "id": "b921c7a2-ff42-4e0f-974e-f096e5d4ded3",
   "metadata": {},
   "outputs": [
    {
     "name": "stdin",
     "output_type": "stream",
     "text": [
      "Height: 32\n",
      "Breadth: 34\n"
     ]
    },
    {
     "name": "stdout",
     "output_type": "stream",
     "text": [
      "Area Formula:, (Height*Breadth)/ 2\n",
      "Area of Triangle: 544.0\n"
     ]
    },
    {
     "name": "stdin",
     "output_type": "stream",
     "text": [
      "Height1: 2\n",
      "Height2: 4\n",
      "Breadth2: 4\n"
     ]
    },
    {
     "name": "stdout",
     "output_type": "stream",
     "text": [
      "Perimeter Formula:, Height1+Height2+Breadth2\n",
      "Perimeter of Triangle: 10\n"
     ]
    }
   ],
   "source": [
    "triangle()"
   ]
  },
  {
   "cell_type": "code",
   "execution_count": null,
   "id": "21f7d7da-74fa-408a-b47f-18127df88a8d",
   "metadata": {},
   "outputs": [],
   "source": []
  }
 ],
 "metadata": {
  "kernelspec": {
   "display_name": "Python 3 (ipykernel)",
   "language": "python",
   "name": "python3"
  },
  "language_info": {
   "codemirror_mode": {
    "name": "ipython",
    "version": 3
   },
   "file_extension": ".py",
   "mimetype": "text/x-python",
   "name": "python",
   "nbconvert_exporter": "python",
   "pygments_lexer": "ipython3",
   "version": "3.13.5"
  }
 },
 "nbformat": 4,
 "nbformat_minor": 5
}
