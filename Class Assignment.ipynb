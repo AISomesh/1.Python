{
 "cells": [
  {
   "cell_type": "code",
   "execution_count": null,
   "id": "ae5c861e-fe75-4cbc-8a1c-4a611046f778",
   "metadata": {},
   "outputs": [],
   "source": [
    "#create a class and function "
   ]
  },
  {
   "cell_type": "code",
   "execution_count": 3,
   "id": "f59c9fd6-6c1f-429d-9176-16a798d50bbc",
   "metadata": {},
   "outputs": [],
   "source": [
    "class subfieldsInAI():\n",
    "    def subfields():\n",
    "        print(\"Sub-fields in AI are:\")\n",
    "        List = ('Machine Learning', 'Neural Networks', 'Vision', 'Robotics', 'Speech Processing', 'Natural Language Processing')\n",
    "        for s in List:\n",
    "            print(s)"
   ]
  },
  {
   "cell_type": "code",
   "execution_count": 4,
   "id": "4e6d564d-1b0a-435f-a9c6-366cea727c08",
   "metadata": {},
   "outputs": [
    {
     "name": "stdout",
     "output_type": "stream",
     "text": [
      "Sub-fields in AI are:\n",
      "Machine Learning\n",
      "Neural Networks\n",
      "Vision\n",
      "Robotics\n",
      "Speech Processing\n",
      "Natural Language Processing\n"
     ]
    }
   ],
   "source": [
    "subfieldsInAI.subfields()"
   ]
  },
  {
   "cell_type": "code",
   "execution_count": 17,
   "id": "f960ebcf-6328-4ec1-bd28-63e91d00b930",
   "metadata": {},
   "outputs": [],
   "source": [
    "class oddEven():\n",
    "    def oddEven():\n",
    "        num = int(input(\"Enter a number:\"))\n",
    "        if (num % 1)==1:\n",
    "            print(num, \"is a Odd number\")\n",
    "        else:\n",
    "            print(num, \"is a Even number\")"
   ]
  },
  {
   "cell_type": "code",
   "execution_count": 8,
   "id": "b49263ef-69ba-4dc1-8dfe-6b8ae4fa47a7",
   "metadata": {},
   "outputs": [
    {
     "name": "stdin",
     "output_type": "stream",
     "text": [
      "Enter a number: 52452\n"
     ]
    },
    {
     "name": "stdout",
     "output_type": "stream",
     "text": [
      "52452 is a Even number\n"
     ]
    }
   ],
   "source": [
    "oddEven.OddEven()"
   ]
  },
  {
   "cell_type": "code",
   "execution_count": 13,
   "id": "ea1695cc-da0d-43b9-ad8b-c50f617c6457",
   "metadata": {},
   "outputs": [],
   "source": [
    "class eligiblityformarriage():\n",
    "    def eligible():\n",
    "            gender = input(\"Your Gender:\")\n",
    "            age = int(input(\"Your Age:\"))\n",
    "            if (age<21):\n",
    "                print(\"Not Eligible\")\n",
    "            else:\n",
    "                print(\"Eligible\")"
   ]
  },
  {
   "cell_type": "code",
   "execution_count": 14,
   "id": "03a18883-1f81-448d-b0ac-91674264da2d",
   "metadata": {},
   "outputs": [
    {
     "name": "stdin",
     "output_type": "stream",
     "text": [
      "Your Gender: Male\n",
      "Your Age: 20\n"
     ]
    },
    {
     "name": "stdout",
     "output_type": "stream",
     "text": [
      "Not Eligible\n"
     ]
    }
   ],
   "source": [
    "eligiblityformarriage.eligible()"
   ]
  },
  {
   "cell_type": "code",
   "execution_count": 15,
   "id": "d00bd4ba-a788-42ee-bd36-117420435945",
   "metadata": {},
   "outputs": [],
   "source": [
    "class findpercent():\n",
    "    def percentage():\n",
    "        sub1 = int(input(\"Subject1=\"))\n",
    "        sub2 = int(input(\"Subject2=\"))\n",
    "        sub3 = int(input(\"Subject3=\"))\n",
    "        sub4 = int(input(\"Subject4=\"))\n",
    "        sub5 = int(input(\"Subject5=\"))\n",
    "        Total = sub1+sub2+sub3+sub4+sub5\n",
    "        print(\"Total:\", sub1+sub2+sub3+sub4+sub5)\n",
    "        per = (Total / 500) * 100\n",
    "        print(\"percentage:\", per)"
   ]
  },
  {
   "cell_type": "code",
   "execution_count": 16,
   "id": "0559505e-4f6d-4cdb-b783-90d11f1203b5",
   "metadata": {},
   "outputs": [
    {
     "name": "stdin",
     "output_type": "stream",
     "text": [
      "Subject1= 98\n",
      "Subject2= 87\n",
      "Subject3= 95\n",
      "Subject4= 95\n",
      "Subject5= 93\n"
     ]
    },
    {
     "name": "stdout",
     "output_type": "stream",
     "text": [
      "Total: 468\n",
      "percentage: 93.60000000000001\n"
     ]
    }
   ],
   "source": [
    "findpercent.percentage()"
   ]
  },
  {
   "cell_type": "code",
   "execution_count": 18,
   "id": "126b22d8-491d-442f-a408-182dfd2553c7",
   "metadata": {},
   "outputs": [],
   "source": [
    "class triangle():\n",
    "    def triangle():\n",
    "        a = int(input(\"Height:\"))\n",
    "        b = int(input(\"Breadth:\"))\n",
    "        print(\"Area Formula:, (Height*Breadth)/ 2\")\n",
    "        print(\"Area of Triangle:\", (a*b)/ 2)\n",
    "        a1 = int(input(\"Height1:\"))\n",
    "        a2 = int(input(\"Height2:\"))\n",
    "        b2 = int(input(\"Breadth2:\"))\n",
    "        print(\"Perimeter Formula:, Height1+Height2+Breadth2\")\n",
    "        print(\"Perimeter of Triangle:\", a1+a2+b2)"
   ]
  },
  {
   "cell_type": "code",
   "execution_count": 19,
   "id": "b921c7a2-ff42-4e0f-974e-f096e5d4ded3",
   "metadata": {},
   "outputs": [
    {
     "name": "stdin",
     "output_type": "stream",
     "text": [
      "Height: 32\n",
      "Breadth: 34\n"
     ]
    },
    {
     "name": "stdout",
     "output_type": "stream",
     "text": [
      "Area Formula:, (Height*Breadth)/ 2\n",
      "Area of Triangle: 544.0\n"
     ]
    },
    {
     "name": "stdin",
     "output_type": "stream",
     "text": [
      "Height1: 2\n",
      "Height2: 4\n",
      "Breadth2: 4\n"
     ]
    },
    {
     "name": "stdout",
     "output_type": "stream",
     "text": [
      "Perimeter Formula:, Height1+Height2+Breadth2\n",
      "Perimeter of Triangle: 10\n"
     ]
    }
   ],
   "source": [
    "triangle.triangle()"
   ]
  },
  {
   "cell_type": "code",
   "execution_count": null,
   "id": "21f7d7da-74fa-408a-b47f-18127df88a8d",
   "metadata": {},
   "outputs": [],
   "source": []
  }
 ],
 "metadata": {
  "kernelspec": {
   "display_name": "Python 3 (ipykernel)",
   "language": "python",
   "name": "python3"
  },
  "language_info": {
   "codemirror_mode": {
    "name": "ipython",
    "version": 3
   },
   "file_extension": ".py",
   "mimetype": "text/x-python",
   "name": "python",
   "nbconvert_exporter": "python",
   "pygments_lexer": "ipython3",
   "version": "3.13.5"
  }
 },
 "nbformat": 4,
 "nbformat_minor": 5
}
