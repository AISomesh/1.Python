{
 "cells": [
  {
   "cell_type": "code",
   "execution_count": 1,
   "id": "1eb074ae-c9d7-48b2-8792-5bdce6823be3",
   "metadata": {},
   "outputs": [],
   "source": [
    "#print 'correct' if i==10"
   ]
  },
  {
   "cell_type": "code",
   "execution_count": 4,
   "id": "b6aca2b8-da0d-4381-80c4-89c1101b234c",
   "metadata": {},
   "outputs": [
    {
     "name": "stdin",
     "output_type": "stream",
     "text": [
      "value: 10\n"
     ]
    },
    {
     "name": "stdout",
     "output_type": "stream",
     "text": [
      "Correct\n"
     ]
    }
   ],
   "source": [
    "i = int(input(\"value:\"))\n",
    "if i == 10:\n",
    "    print(\"Correct\")\n",
    "else:\n",
    "    print(\"wrong\")"
   ]
  },
  {
   "cell_type": "code",
   "execution_count": 5,
   "id": "43034cdf-484c-45d6-91c6-ade8be2823a9",
   "metadata": {},
   "outputs": [],
   "source": [
    "#Check the password, using if and else"
   ]
  },
  {
   "cell_type": "code",
   "execution_count": 8,
   "id": "b850feee-c53c-457b-bca4-2128a2c4509b",
   "metadata": {},
   "outputs": [
    {
     "name": "stdin",
     "output_type": "stream",
     "text": [
      "Enter the password: HOPE@123\n"
     ]
    },
    {
     "name": "stdout",
     "output_type": "stream",
     "text": [
      "Your password is correct\n"
     ]
    }
   ],
   "source": [
    "a = input(\"Enter the password:\")\n",
    "if(a == \"HOPE@123\" ):\n",
    "    print(\"Your password is correct\")\n",
    "else:\n",
    "    print(\"Your password is wrong\")\n"
   ]
  },
  {
   "cell_type": "code",
   "execution_count": 9,
   "id": "9f052e3d-bf4c-4de5-94a7-0b15a96e970c",
   "metadata": {},
   "outputs": [],
   "source": [
    "#Category the prople by their age like children, adult, citizen, senior citizen"
   ]
  },
  {
   "cell_type": "code",
   "execution_count": 14,
   "id": "d6684271-776e-493e-9bd8-7230c83dbf16",
   "metadata": {},
   "outputs": [
    {
     "name": "stdin",
     "output_type": "stream",
     "text": [
      "age: 20\n"
     ]
    },
    {
     "name": "stdout",
     "output_type": "stream",
     "text": [
      "Adult\n"
     ]
    }
   ],
   "source": [
    "i = int(input(\"age:\"))\n",
    "if (i>=50):\n",
    "    print(\"Senior Citizen\")\n",
    "elif(i<20):\n",
    "    print(\"Children\")\n",
    "elif(i<=35):\n",
    "    print(\"Adult\")\n",
    "else:\n",
    "    print(\"Citizen\")\n",
    "    "
   ]
  },
  {
   "cell_type": "code",
   "execution_count": 15,
   "id": "d2dd5093-1c74-45e7-8804-7cd80c78a300",
   "metadata": {},
   "outputs": [],
   "source": [
    "#Find whether given number is positive or negative"
   ]
  },
  {
   "cell_type": "code",
   "execution_count": 16,
   "id": "1d6db4b1-f095-48c5-86e6-8345958ade85",
   "metadata": {},
   "outputs": [
    {
     "name": "stdin",
     "output_type": "stream",
     "text": [
      "Enter any number: 1\n"
     ]
    },
    {
     "name": "stdout",
     "output_type": "stream",
     "text": [
      "No is positive\n"
     ]
    }
   ],
   "source": [
    "num1 = int(input(\"Enter any number:\"))\n",
    "if (num1>0):\n",
    "    print(\"No is positive\")\n",
    "elif(num1<0):\n",
    "    print(\"No is negative\")\n",
    "else:\n",
    "    print(\"Zero\")\n",
    "    "
   ]
  },
  {
   "cell_type": "code",
   "execution_count": 17,
   "id": "4169f210-c1b3-4681-ad77-a71ae9d22b2d",
   "metadata": {},
   "outputs": [],
   "source": [
    "#Check whether the given number is divisible by 5"
   ]
  },
  {
   "cell_type": "code",
   "execution_count": 18,
   "id": "b5018f44-9e44-4752-bf3b-5d0ac30ed0bc",
   "metadata": {},
   "outputs": [
    {
     "name": "stdin",
     "output_type": "stream",
     "text": [
      "Enter a number to check: 22\n"
     ]
    },
    {
     "name": "stdout",
     "output_type": "stream",
     "text": [
      "No is not divisible by 5\n"
     ]
    }
   ],
   "source": [
    "num1 = int(input(\"Enter a number to check:\"))\n",
    "if (num1%5 ==0):\n",
    "    print(\"No is divisible by 5\")\n",
    "else:\n",
    "    print(\"No is not divisible by 5\")\n",
    "    "
   ]
  },
  {
   "cell_type": "code",
   "execution_count": null,
   "id": "884328a7-30ac-4a63-9392-2ecc75be3064",
   "metadata": {},
   "outputs": [],
   "source": []
  },
  {
   "cell_type": "code",
   "execution_count": null,
   "id": "12148cd0-bfaa-49b9-912b-4faf2b20cfec",
   "metadata": {},
   "outputs": [],
   "source": []
  }
 ],
 "metadata": {
  "kernelspec": {
   "display_name": "Python 3 (ipykernel)",
   "language": "python",
   "name": "python3"
  },
  "language_info": {
   "codemirror_mode": {
    "name": "ipython",
    "version": 3
   },
   "file_extension": ".py",
   "mimetype": "text/x-python",
   "name": "python",
   "nbconvert_exporter": "python",
   "pygments_lexer": "ipython3",
   "version": "3.13.5"
  }
 },
 "nbformat": 4,
 "nbformat_minor": 5
}
