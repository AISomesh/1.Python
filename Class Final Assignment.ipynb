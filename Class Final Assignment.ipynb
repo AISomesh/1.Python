{
 "cells": [
  {
   "cell_type": "code",
   "execution_count": 6,
   "id": "ac0b9026-8b96-44a4-99f9-c8b363a05098",
   "metadata": {},
   "outputs": [],
   "source": [
    "from classfunctions import subfieldsInAI"
   ]
  },
  {
   "cell_type": "code",
   "execution_count": 7,
   "id": "b2e5847e-d586-4a2d-bf32-107421708245",
   "metadata": {},
   "outputs": [
    {
     "name": "stdout",
     "output_type": "stream",
     "text": [
      "Sub-fields in AI are:\n",
      "Machine Learning\n",
      "Neural Networks\n",
      "Vision\n",
      "Robotics\n",
      "Speech Processing\n",
      "Natural Language Processing\n"
     ]
    }
   ],
   "source": [
    "subfieldsInAI.subfields()"
   ]
  },
  {
   "cell_type": "code",
   "execution_count": 8,
   "id": "56811340-f197-4acc-a990-132c0bdb5633",
   "metadata": {},
   "outputs": [
    {
     "name": "stdin",
     "output_type": "stream",
     "text": [
      "Enter a number: 52452\n"
     ]
    },
    {
     "name": "stdout",
     "output_type": "stream",
     "text": [
      "52452 is a Even number\n"
     ]
    }
   ],
   "source": [
    "subfieldsInAI.oddEven()"
   ]
  },
  {
   "cell_type": "code",
   "execution_count": 9,
   "id": "0722a132-614c-400c-a50d-236275ffa6e6",
   "metadata": {},
   "outputs": [
    {
     "name": "stdin",
     "output_type": "stream",
     "text": [
      "Your Gender: Male\n",
      "Your Age: 20\n"
     ]
    },
    {
     "name": "stdout",
     "output_type": "stream",
     "text": [
      "Not Eligible\n"
     ]
    }
   ],
   "source": [
    "subfieldsInAI.eligible()"
   ]
  },
  {
   "cell_type": "code",
   "execution_count": 10,
   "id": "b57af6b0-3568-48c1-bdcc-098591668454",
   "metadata": {},
   "outputs": [
    {
     "name": "stdin",
     "output_type": "stream",
     "text": [
      "Subject1= 98\n",
      "Subject2= 87\n",
      "Subject3= 95\n",
      "Subject4= 95\n",
      "Subject5= 93\n"
     ]
    },
    {
     "name": "stdout",
     "output_type": "stream",
     "text": [
      "Total: 468\n",
      "percentage: 93.60000000000001\n"
     ]
    }
   ],
   "source": [
    "subfieldsInAI.percentage()"
   ]
  },
  {
   "cell_type": "code",
   "execution_count": 13,
   "id": "8a9e0500-621e-4b1a-af61-620cf0975456",
   "metadata": {},
   "outputs": [
    {
     "name": "stdin",
     "output_type": "stream",
     "text": [
      "Height: 32\n",
      "Breadth: 34\n"
     ]
    },
    {
     "name": "stdout",
     "output_type": "stream",
     "text": [
      "Area Formula:, (Height*Breadth)/ 2\n",
      "Area of Triangle: 544.0\n"
     ]
    },
    {
     "name": "stdin",
     "output_type": "stream",
     "text": [
      "Height1: 2\n",
      "Height2: 4\n",
      "Breadth2: 4\n"
     ]
    },
    {
     "name": "stdout",
     "output_type": "stream",
     "text": [
      "Perimeter Formula:, Height1+Height2+Breadth2\n",
      "Perimeter of Triangle: 10\n"
     ]
    }
   ],
   "source": [
    "subfieldsInAI.triangle()"
   ]
  },
  {
   "cell_type": "code",
   "execution_count": null,
   "id": "61106480-29af-41c1-ad22-eb71bf7ecb02",
   "metadata": {},
   "outputs": [],
   "source": []
  }
 ],
 "metadata": {
  "kernelspec": {
   "display_name": "Python 3 (ipykernel)",
   "language": "python",
   "name": "python3"
  },
  "language_info": {
   "codemirror_mode": {
    "name": "ipython",
    "version": 3
   },
   "file_extension": ".py",
   "mimetype": "text/x-python",
   "name": "python",
   "nbconvert_exporter": "python",
   "pygments_lexer": "ipython3",
   "version": "3.13.5"
  }
 },
 "nbformat": 4,
 "nbformat_minor": 5
}
