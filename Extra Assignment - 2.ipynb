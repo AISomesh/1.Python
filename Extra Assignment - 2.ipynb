{
 "cells": [
  {
   "cell_type": "code",
   "execution_count": null,
   "id": "f703ed28-6ceb-41d6-89a0-0cbf889a2816",
   "metadata": {},
   "outputs": [],
   "source": [
    "#print 0 to 20 by using range"
   ]
  },
  {
   "cell_type": "code",
   "execution_count": 1,
   "id": "1bacb743-90c0-40eb-a5dd-865724e35d3b",
   "metadata": {},
   "outputs": [
    {
     "name": "stdout",
     "output_type": "stream",
     "text": [
      "0\n",
      "1\n",
      "2\n",
      "3\n",
      "4\n",
      "5\n",
      "6\n",
      "7\n",
      "8\n",
      "9\n",
      "10\n",
      "11\n",
      "12\n",
      "13\n",
      "14\n",
      "15\n",
      "16\n",
      "17\n",
      "18\n",
      "19\n"
     ]
    }
   ],
   "source": [
    "for temp in range(0,20):\n",
    "    print(temp)"
   ]
  },
  {
   "cell_type": "code",
   "execution_count": 2,
   "id": "fea65cce-d729-47e1-a4d4-41c912caed0b",
   "metadata": {},
   "outputs": [],
   "source": [
    "#print range 10 to 20"
   ]
  },
  {
   "cell_type": "code",
   "execution_count": 4,
   "id": "f18349ef-be31-411c-8e9b-7731bdbe212a",
   "metadata": {},
   "outputs": [
    {
     "name": "stdout",
     "output_type": "stream",
     "text": [
      "10 11 12 13 14 15 16 17 18 19 "
     ]
    }
   ],
   "source": [
    "for i in range(10,20):\n",
    "    print(i, end=\" \")\n"
   ]
  },
  {
   "cell_type": "code",
   "execution_count": 6,
   "id": "f1677256-ee17-4a7a-9dc5-188bd874f7c8",
   "metadata": {},
   "outputs": [],
   "source": [
    "#print number of items in the list b using 'len'"
   ]
  },
  {
   "cell_type": "code",
   "execution_count": 9,
   "id": "65cc2d7d-f790-40de-a63e-3ddc14df714a",
   "metadata": {},
   "outputs": [
    {
     "name": "stdout",
     "output_type": "stream",
     "text": [
      "[10, 20, 14, 55, 43, 87, 76]\n",
      "Number of item in the list:\n",
      "7\n"
     ]
    }
   ],
   "source": [
    "list2= [10,20,14,55,43,87,76]\n",
    "print(list2)\n",
    "print('Number of item in the list:')\n",
    "print(len(list2))"
   ]
  },
  {
   "cell_type": "code",
   "execution_count": 10,
   "id": "5cc260bc-d33c-4cd8-a306-5215237244fd",
   "metadata": {},
   "outputs": [],
   "source": [
    "#Artificial Intelligence"
   ]
  },
  {
   "cell_type": "code",
   "execution_count": 13,
   "id": "2b56d066-eb87-4b4c-9992-2f133c5e7848",
   "metadata": {},
   "outputs": [
    {
     "name": "stdout",
     "output_type": "stream",
     "text": [
      "Artifical Intelligence\n",
      "A\n",
      "r\n",
      "t\n",
      "i\n",
      "f\n",
      "i\n",
      "c\n",
      "i\n",
      "a\n",
      "l\n",
      " \n",
      "I\n",
      "n\n",
      "t\n",
      "e\n",
      "l\n",
      "l\n",
      "i\n",
      "g\n",
      "e\n",
      "n\n",
      "c\n",
      "e\n"
     ]
    }
   ],
   "source": [
    "print(\"Artifical Intelligence\")\n",
    "l = \"Artificial Intelligence\"\n",
    "for i in l:\n",
    "    print(i)"
   ]
  },
  {
   "cell_type": "code",
   "execution_count": 16,
   "id": "23173d27-9174-46a4-9d8e-874b9a61ec1a",
   "metadata": {},
   "outputs": [
    {
     "name": "stdout",
     "output_type": "stream",
     "text": [
      "-Your Name-\n",
      "-Your Age-\n",
      "-Your Profession-\n"
     ]
    }
   ],
   "source": [
    "list = (\"-Your Name-\", \"-Your Age-\", \"-Your Profession-\")\n",
    "for i in list:\n",
    "    print(i)"
   ]
  },
  {
   "cell_type": "code",
   "execution_count": 17,
   "id": "8db790a5-af0c-4c15-a436-37a2ff714358",
   "metadata": {},
   "outputs": [],
   "source": [
    "#print this mixered datatype using Tuples"
   ]
  },
  {
   "cell_type": "code",
   "execution_count": 20,
   "id": "00efb582-acb9-442d-9c6d-93ac7887d39b",
   "metadata": {},
   "outputs": [
    {
     "name": "stdout",
     "output_type": "stream",
     "text": [
      "('1', 'Welcome', '2', 'Hope')\n"
     ]
    }
   ],
   "source": [
    "tuple = (\"1\", \"Welcome\", \"2\", \"Hope\") \n",
    "print(tuple)"
   ]
  },
  {
   "cell_type": "code",
   "execution_count": 21,
   "id": "a009cd5b-9b25-461e-b3f6-6b74b6231775",
   "metadata": {},
   "outputs": [],
   "source": [
    "Tuple1= (0,1,2,3)"
   ]
  },
  {
   "cell_type": "code",
   "execution_count": 26,
   "id": "791d5223-4d7f-428c-b340-13f756e4f101",
   "metadata": {},
   "outputs": [
    {
     "name": "stdout",
     "output_type": "stream",
     "text": [
      "('0,1,2,3', ('python', 'Hope'))\n"
     ]
    }
   ],
   "source": [
    "Tuple1 = (\"0,1,2,3\")\n",
    "Tuple2 = (\"python\", \"Hope\")\n",
    "Tuple3 = (Tuple1,Tuple2)\n",
    "print(Tuple3)"
   ]
  },
  {
   "cell_type": "code",
   "execution_count": 27,
   "id": "7d3500e8-7477-49a3-83a9-0ab2d073e045",
   "metadata": {},
   "outputs": [],
   "source": [
    "#print odd numbers in the list"
   ]
  },
  {
   "cell_type": "code",
   "execution_count": 33,
   "id": "337b3569-8864-4b37-9795-eda67094ae07",
   "metadata": {},
   "outputs": [
    {
     "name": "stdout",
     "output_type": "stream",
     "text": [
      "(20,10,16,19,25,1,276,188)\n",
      "19 is odd\n",
      "25 is odd\n",
      "1 is odd\n"
     ]
    }
   ],
   "source": [
    "num = (20,10,16,19,25,1,276,188)\n",
    "print(\"(20,10,16,19,25,1,276,188)\")\n",
    "for i in num:\n",
    "    if i % 2 == 1:\n",
    "        print(i, \"is odd\")"
   ]
  },
  {
   "cell_type": "code",
   "execution_count": 35,
   "id": "aefdbdd8-2443-431b-86af-8f11b8f1858a",
   "metadata": {},
   "outputs": [
    {
     "name": "stdout",
     "output_type": "stream",
     "text": [
      "(20,10,16,19,25,1,276,188)\n",
      "20 is even\n",
      "10 is even\n",
      "16 is even\n",
      "276 is even\n",
      "188 is even\n"
     ]
    }
   ],
   "source": [
    "num = (20,10,16,19,25,1,276,188)\n",
    "print(\"(20,10,16,19,25,1,276,188)\")\n",
    "for i in num:\n",
    "    if i % 2 == 0:\n",
    "        print(i, \"is even\")\n",
    "      \n",
    "\n"
   ]
  },
  {
   "cell_type": "code",
   "execution_count": null,
   "id": "e74fa5dd-e398-4338-94fe-341bd20357a2",
   "metadata": {},
   "outputs": [],
   "source": []
  }
 ],
 "metadata": {
  "kernelspec": {
   "display_name": "Python 3 (ipykernel)",
   "language": "python",
   "name": "python3"
  },
  "language_info": {
   "codemirror_mode": {
    "name": "ipython",
    "version": 3
   },
   "file_extension": ".py",
   "mimetype": "text/x-python",
   "name": "python",
   "nbconvert_exporter": "python",
   "pygments_lexer": "ipython3",
   "version": "3.13.5"
  }
 },
 "nbformat": 4,
 "nbformat_minor": 5
}
