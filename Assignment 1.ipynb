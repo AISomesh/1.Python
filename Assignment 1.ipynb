{
 "cells": [
  {
   "cell_type": "code",
   "execution_count": 1,
   "id": "aec163cb-c066-4215-a92e-4a83fd1cb6ff",
   "metadata": {},
   "outputs": [
    {
     "name": "stdout",
     "output_type": "stream",
     "text": [
      "Welcome to Assignment: 1\n"
     ]
    }
   ],
   "source": [
    "print('Welcome to Assignment: 1')"
   ]
  },
  {
   "cell_type": "code",
   "execution_count": 2,
   "id": "5cf01f2f-3d29-41eb-a81f-93564f3ba3e4",
   "metadata": {},
   "outputs": [
    {
     "name": "stdout",
     "output_type": "stream",
     "text": [
      "num1= 10\n",
      "num2= 30\n",
      "add= 40\n"
     ]
    }
   ],
   "source": [
    "num1=10\n",
    "print(\"num1=\", num1)\n",
    "num2=30\n",
    "print(\"num2=\", num2)\n",
    "add=num1+num2\n",
    "print(\"add=\", add)"
   ]
  },
  {
   "cell_type": "code",
   "execution_count": null,
   "id": "4b863c05-a74f-4d7d-9f84-e08026d80890",
   "metadata": {},
   "outputs": [],
   "source": [
    "#Body Mass Index"
   ]
  },
  {
   "cell_type": "code",
   "execution_count": 3,
   "id": "54cdd465-cb39-4c92-992c-07c206d08244",
   "metadata": {},
   "outputs": [
    {
     "name": "stdin",
     "output_type": "stream",
     "text": [
      "Enter the BMI Index 34\n"
     ]
    },
    {
     "name": "stdout",
     "output_type": "stream",
     "text": [
      "Very Overweight\n"
     ]
    }
   ],
   "source": [
    "bmi=int(input(\"Enter the BMI Index\"))\n",
    "if(bmi==28):\n",
    "    print(\"Normal\")\n",
    "elif(bmi>28):\n",
    "    print(\"Very Overweight\")\n",
    "else:\n",
    "    print(\"Underweight\")"
   ]
  },
  {
   "cell_type": "code",
   "execution_count": null,
   "id": "68aa46ef-6a2c-4c77-89e4-58c86db81251",
   "metadata": {},
   "outputs": [],
   "source": []
  }
 ],
 "metadata": {
  "kernelspec": {
   "display_name": "Python 3 (ipykernel)",
   "language": "python",
   "name": "python3"
  },
  "language_info": {
   "codemirror_mode": {
    "name": "ipython",
    "version": 3
   },
   "file_extension": ".py",
   "mimetype": "text/x-python",
   "name": "python",
   "nbconvert_exporter": "python",
   "pygments_lexer": "ipython3",
   "version": "3.13.5"
  }
 },
 "nbformat": 4,
 "nbformat_minor": 5
}
