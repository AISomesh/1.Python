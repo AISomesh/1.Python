{
 "cells": [
  {
   "cell_type": "code",
   "execution_count": 1,
   "id": "e0e68ad7-b0c8-482a-a2f1-892ff42c7939",
   "metadata": {},
   "outputs": [
    {
     "name": "stdout",
     "output_type": "stream",
     "text": [
      "Hope AI\n"
     ]
    }
   ],
   "source": [
    "print(\"Hope AI\")"
   ]
  },
  {
   "cell_type": "code",
   "execution_count": 2,
   "id": "249810af-4f5d-45d8-a7a1-cb776c973d64",
   "metadata": {},
   "outputs": [
    {
     "name": "stdin",
     "output_type": "stream",
     "text": [
      "Enter your institute name? : HOPE AI\n"
     ]
    }
   ],
   "source": [
    "name = input('Enter your institute name? :')"
   ]
  },
  {
   "cell_type": "code",
   "execution_count": null,
   "id": "8ef7357b-29f8-4029-aa8b-af3c05876fae",
   "metadata": {},
   "outputs": [],
   "source": [
    "#Buy Inputs"
   ]
  },
  {
   "cell_type": "code",
   "execution_count": 7,
   "id": "55fd5615-4405-4aed-9426-b197d26d86b9",
   "metadata": {},
   "outputs": [
    {
     "name": "stdin",
     "output_type": "stream",
     "text": [
      "Enter your name : Raj\n",
      "Enter your age : 15\n",
      "Enter your school name : Guru School\n",
      "Enter your degree : B.E CSE\n"
     ]
    }
   ],
   "source": [
    "name = input('Enter your name :')\n",
    "age = int(input('Enter your age :'))\n",
    "school = input('Enter your school name :')\n",
    "degree = input('Enter your degree :')"
   ]
  },
  {
   "cell_type": "code",
   "execution_count": null,
   "id": "14c03880-585a-4e29-9143-4e1e9b355521",
   "metadata": {},
   "outputs": [],
   "source": [
    "#Addition"
   ]
  },
  {
   "cell_type": "code",
   "execution_count": 12,
   "id": "cb752f39-15a2-486e-b373-32e75d782672",
   "metadata": {},
   "outputs": [
    {
     "name": "stdin",
     "output_type": "stream",
     "text": [
      "a= 43\n",
      "b= 34\n"
     ]
    },
    {
     "name": "stdout",
     "output_type": "stream",
     "text": [
      "add= 77\n"
     ]
    }
   ],
   "source": [
    "a=43\n",
    "num1 = int(input('a='))\n",
    "b=34\n",
    "num2 = int(input('b='))\n",
    "add=a+b\n",
    "print('add=', num1+num2)"
   ]
  },
  {
   "cell_type": "code",
   "execution_count": null,
   "id": "0a0b1bcb-08d4-4326-9532-0e8abb65b983",
   "metadata": {},
   "outputs": [],
   "source": [
    "#Subtraction"
   ]
  },
  {
   "cell_type": "code",
   "execution_count": 19,
   "id": "f35e8f62-71ae-4631-89ed-0db6e3284c5e",
   "metadata": {},
   "outputs": [
    {
     "name": "stdin",
     "output_type": "stream",
     "text": [
      "a= 43\n",
      "b= 34\n"
     ]
    },
    {
     "name": "stdout",
     "output_type": "stream",
     "text": [
      "sub= 9\n"
     ]
    }
   ],
   "source": [
    "num1 = int(input('a='))\n",
    "num2 = int(input('b='))\n",
    "print('sub=', num1-num2)"
   ]
  },
  {
   "cell_type": "code",
   "execution_count": null,
   "id": "7083e4f3-d553-4fbc-947d-46d89ec72068",
   "metadata": {},
   "outputs": [],
   "source": [
    "#Multiplication"
   ]
  },
  {
   "cell_type": "code",
   "execution_count": 20,
   "id": "0faefb0a-32ff-492b-af7b-19b6f5080dbb",
   "metadata": {},
   "outputs": [
    {
     "name": "stdin",
     "output_type": "stream",
     "text": [
      "a= 63\n",
      "b= 97\n"
     ]
    },
    {
     "name": "stdout",
     "output_type": "stream",
     "text": [
      "Mul= 6111\n"
     ]
    }
   ],
   "source": [
    "num1 = int(input('a='))\n",
    "num2 = int(input('b='))\n",
    "print('Mul=', num1*num2)"
   ]
  },
  {
   "cell_type": "code",
   "execution_count": null,
   "id": "5693d03a-ad6f-4013-9303-8cbd872d93b6",
   "metadata": {},
   "outputs": [],
   "source": [
    "#Division"
   ]
  },
  {
   "cell_type": "code",
   "execution_count": 25,
   "id": "1f162a2e-ab34-4c67-a964-500195acfbe3",
   "metadata": {},
   "outputs": [
    {
     "name": "stdin",
     "output_type": "stream",
     "text": [
      "a= 76\n",
      "b= 31\n"
     ]
    },
    {
     "name": "stdout",
     "output_type": "stream",
     "text": [
      "Float Div 2.4516129032258065\n"
     ]
    }
   ],
   "source": [
    "num1 = int(input('a='))\n",
    "num2 = int(input('b='))\n",
    "print('Float Div', num1/num2)"
   ]
  },
  {
   "cell_type": "code",
   "execution_count": null,
   "id": "7600b99f-4b4d-43f9-ab76-d34bf3d51756",
   "metadata": {},
   "outputs": [],
   "source": [
    "#Floor Division"
   ]
  },
  {
   "cell_type": "code",
   "execution_count": 26,
   "id": "804dc0c2-e85e-48cf-affd-87bd4d9f7633",
   "metadata": {},
   "outputs": [
    {
     "name": "stdin",
     "output_type": "stream",
     "text": [
      "a= 76\n",
      "b= 31\n"
     ]
    },
    {
     "name": "stdout",
     "output_type": "stream",
     "text": [
      "Floor Div 2\n"
     ]
    }
   ],
   "source": [
    "num1 = int(input('a='))\n",
    "num2 = int(input('b='))\n",
    "print('Floor Div', num1//num2)"
   ]
  },
  {
   "cell_type": "code",
   "execution_count": null,
   "id": "37e0a9cd-e2c5-4c2e-b7ed-a290d77bed07",
   "metadata": {},
   "outputs": [],
   "source": [
    "#Modulo"
   ]
  },
  {
   "cell_type": "code",
   "execution_count": 27,
   "id": "2ea241a8-2170-4fd2-a5e6-999f5739f9cc",
   "metadata": {},
   "outputs": [
    {
     "name": "stdin",
     "output_type": "stream",
     "text": [
      "a= 76\n",
      "b= 31\n"
     ]
    },
    {
     "name": "stdout",
     "output_type": "stream",
     "text": [
      "Modulo 14\n"
     ]
    }
   ],
   "source": [
    "num1 = int(input('a='))\n",
    "num2 = int(input('b='))\n",
    "print('Modulo', num1%num2)"
   ]
  },
  {
   "cell_type": "code",
   "execution_count": 28,
   "id": "d3015009-4fe1-4bc0-80fe-c71b17fc3da7",
   "metadata": {},
   "outputs": [],
   "source": [
    "#Power"
   ]
  },
  {
   "cell_type": "code",
   "execution_count": 31,
   "id": "5e20e38a-8949-474a-9529-77ea7e2bbc96",
   "metadata": {},
   "outputs": [
    {
     "name": "stdin",
     "output_type": "stream",
     "text": [
      "a= 4\n",
      "b= 4\n"
     ]
    },
    {
     "name": "stdout",
     "output_type": "stream",
     "text": [
      "Power 256\n"
     ]
    }
   ],
   "source": [
    "num1 = int(input('a='))\n",
    "num2 = int(input('b='))\n",
    "print('Power', num1**num2)"
   ]
  },
  {
   "cell_type": "code",
   "execution_count": null,
   "id": "7f33d271-e5c8-41b1-833a-c8144c898afa",
   "metadata": {},
   "outputs": [],
   "source": []
  }
 ],
 "metadata": {
  "kernelspec": {
   "display_name": "Python 3 (ipykernel)",
   "language": "python",
   "name": "python3"
  },
  "language_info": {
   "codemirror_mode": {
    "name": "ipython",
    "version": 3
   },
   "file_extension": ".py",
   "mimetype": "text/x-python",
   "name": "python",
   "nbconvert_exporter": "python",
   "pygments_lexer": "ipython3",
   "version": "3.13.5"
  }
 },
 "nbformat": 4,
 "nbformat_minor": 5
}
